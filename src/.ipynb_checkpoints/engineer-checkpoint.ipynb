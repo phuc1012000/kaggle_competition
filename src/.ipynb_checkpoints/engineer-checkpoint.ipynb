{
 "cells": [
  {
   "cell_type": "markdown",
   "metadata": {},
   "source": [
    "# Description"
   ]
  },
  {
   "cell_type": "code",
   "execution_count": null,
   "metadata": {},
   "outputs": [],
   "source": []
  },
  {
   "cell_type": "markdown",
   "metadata": {},
   "source": [
    "# Environment"
   ]
  },
  {
   "cell_type": "markdown",
   "metadata": {},
   "source": [
    "## Library Imports"
   ]
  },
  {
   "cell_type": "code",
   "execution_count": 1,
   "metadata": {
    "ExecuteTime": {
     "end_time": "2019-12-15T02:58:49.170394Z",
     "start_time": "2019-12-15T02:58:48.965784Z"
    }
   },
   "outputs": [],
   "source": [
    "import os\n",
    "\n",
    "import numpy as np\n",
    "import pandas as pd\n",
    "\n",
    "import matplotlib.pyplot as plt\n",
    "import seaborn as sns\n",
    "%matplotlib inline\n",
    "plt.style.use('ggplot')"
   ]
  },
  {
   "cell_type": "markdown",
   "metadata": {},
   "source": [
    "## Local Imports"
   ]
  },
  {
   "cell_type": "code",
   "execution_count": 2,
   "metadata": {},
   "outputs": [],
   "source": [
    "from phuc import data_process, file\n",
    "from phuc import visualization as vs"
   ]
  },
  {
   "cell_type": "markdown",
   "metadata": {},
   "source": [
    "## Reload data path"
   ]
  },
  {
   "cell_type": "code",
   "execution_count": 3,
   "metadata": {},
   "outputs": [
    {
     "name": "stdout",
     "output_type": "stream",
     "text": [
      "Loaded file data_path.pkl\n",
      "Directory  /home/phuc/Desktop/Work/Data Sience/kaggle_competition/SafeDirverPrediction  already exists\n",
      "Saved file data_path.pkl\n"
     ]
    }
   ],
   "source": [
    "from phuc.file import standard_template\n",
    "\n",
    "standard_template.save_data_path()"
   ]
  },
  {
   "cell_type": "markdown",
   "metadata": {},
   "source": [
    "##  Setup Pandas"
   ]
  },
  {
   "cell_type": "code",
   "execution_count": 4,
   "metadata": {},
   "outputs": [],
   "source": [
    "pd.set_option('display.max_rows', 100)\n",
    "pd.set_option('display.max_columns', 100)"
   ]
  },
  {
   "cell_type": "markdown",
   "metadata": {},
   "source": [
    "## Set up data path"
   ]
  },
  {
   "cell_type": "code",
   "execution_count": 5,
   "metadata": {},
   "outputs": [],
   "source": [
    "CURR_DIR = os.getcwd().split('/src')[0]"
   ]
  },
  {
   "cell_type": "code",
   "execution_count": 6,
   "metadata": {},
   "outputs": [
    {
     "name": "stdout",
     "output_type": "stream",
     "text": [
      "Loaded file data_path.pkl\n"
     ]
    }
   ],
   "source": [
    "data_path = file.load_pickle(CURR_DIR + '/data_path.pkl')"
   ]
  },
  {
   "cell_type": "code",
   "execution_count": 7,
   "metadata": {},
   "outputs": [
    {
     "name": "stdout",
     "output_type": "stream",
     "text": [
      "PROJECT_DIR\n",
      "PROCESSED_DIR\n",
      "WORKING_DIR\n",
      "RAW_DIR\n",
      "EXTERNAL_DIR\n",
      "SAMPLE_SUBMISSION_CSV_PATH\n",
      "TEST_CSV_PATH\n",
      "TRAIN_CSV_PATH\n",
      "TRAIN_CSV_PKL_PATH\n"
     ]
    }
   ],
   "source": [
    "for key in data_path: print(key)"
   ]
  },
  {
   "cell_type": "markdown",
   "metadata": {},
   "source": [
    "# Reduce Memory"
   ]
  },
  {
   "cell_type": "code",
   "execution_count": 8,
   "metadata": {},
   "outputs": [],
   "source": [
    "# train_csv = data_process.read_csv(data_path['TRAIN_CSV_PATH'])\n",
    "# file.save_pickle(data_path['PROCESSED_DIR'] + '/train_csv.pkl', \n",
    "#                 train_csv, reduce_mem_usage=True, remove_memory=True)"
   ]
  },
  {
   "cell_type": "markdown",
   "metadata": {},
   "source": [
    "# Meta Data"
   ]
  },
  {
   "cell_type": "code",
   "execution_count": 12,
   "metadata": {},
   "outputs": [
    {
     "name": "stdout",
     "output_type": "stream",
     "text": [
      "Directory  /home/phuc/Desktop/Work/Data Sience/kaggle_competition/SafeDirverPrediction/data/processed  already exists\n",
      "Saved file metadata.pkl\n"
     ]
    }
   ],
   "source": [
    "\"\"\"\n",
    "data = []\n",
    "\n",
    "for column in train_csv.columns:\n",
    "    if column in ['target', 'id']:\n",
    "        role = column\n",
    "    else:\n",
    "        role = 'input'\n",
    "\n",
    "    # Defining the level\n",
    "    if 'bin' in column or column == 'target':\n",
    "        level = 'binary'\n",
    "    elif 'cat' in column or column == 'id':\n",
    "        level = 'nominal'\n",
    "    elif train_csv[column].dtype == float:\n",
    "        level = 'interval'\n",
    "    elif train_csv[column].dtype == object:\n",
    "        level = 'object'\n",
    "    else:\n",
    "        level = 'ordinal'\n",
    "\n",
    "    # Initialize keep to True for all variables except for id\n",
    "    keep = True\n",
    "    if column == 'id':\n",
    "        keep = False\n",
    "\n",
    "    # Defining the data type\n",
    "    dtype = train_csv[column].dtype\n",
    "\n",
    "    # Creating a Dict that contains all the metadata for the variable\n",
    "    column_dict = {\n",
    "        'varname': column,\n",
    "        'role': role,\n",
    "        'level': level,\n",
    "        'keep': keep,\n",
    "        'dtype': dtype\n",
    "    }\n",
    "    data.append(column_dict)\n",
    "\n",
    "meta = pd.DataFrame(\n",
    "    data, columns=['varname', 'role', 'level', 'keep', 'dtype'])\n",
    "meta.set_index('varname', inplace=True)\n",
    "\n",
    "meta['nan_counts'] = train_csv.copy().replace(-1, np.nan).isna().sum()\n",
    "meta['nunique'] = train_csv.nunique()\n",
    "\n",
    "# save_pickle\n",
    "file.save_pickle(data_path['PROCESSED_DIR']+'/metadata.pkl',meta)\n",
    "\"\"\""
   ]
  },
  {
   "cell_type": "code",
   "execution_count": null,
   "metadata": {},
   "outputs": [],
   "source": []
  }
 ],
 "metadata": {
  "kernelspec": {
   "display_name": "Python 3",
   "language": "python",
   "name": "python3"
  },
  "language_info": {
   "codemirror_mode": {
    "name": "ipython",
    "version": 3
   },
   "file_extension": ".py",
   "mimetype": "text/x-python",
   "name": "python",
   "nbconvert_exporter": "python",
   "pygments_lexer": "ipython3",
   "version": "3.6.8"
  },
  "toc": {
   "base_numbering": 1,
   "nav_menu": {},
   "number_sections": true,
   "sideBar": false,
   "skip_h1_title": false,
   "title_cell": "Table of Contents",
   "title_sidebar": "Contents",
   "toc_cell": false,
   "toc_position": {
    "height": "411.533px",
    "left": "37px",
    "top": "74.3833px",
    "width": "243.2px"
   },
   "toc_section_display": false,
   "toc_window_display": true
  },
  "varInspector": {
   "cols": {
    "lenName": 16,
    "lenType": 16,
    "lenVar": 40
   },
   "kernels_config": {
    "python": {
     "delete_cmd_postfix": "",
     "delete_cmd_prefix": "del ",
     "library": "var_list.py",
     "varRefreshCmd": "print(var_dic_list())"
    },
    "r": {
     "delete_cmd_postfix": ") ",
     "delete_cmd_prefix": "rm(",
     "library": "var_list.r",
     "varRefreshCmd": "cat(var_dic_list()) "
    }
   },
   "types_to_exclude": [
    "module",
    "function",
    "builtin_function_or_method",
    "instance",
    "_Feature"
   ],
   "window_display": false
  }
 },
 "nbformat": 4,
 "nbformat_minor": 2
}
