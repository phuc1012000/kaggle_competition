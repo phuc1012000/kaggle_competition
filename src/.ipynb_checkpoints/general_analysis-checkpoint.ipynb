{
 "cells": [
  {
   "cell_type": "markdown",
   "metadata": {},
   "source": [
    "# Description"
   ]
  },
  {
   "cell_type": "code",
   "execution_count": null,
   "metadata": {},
   "outputs": [],
   "source": []
  },
  {
   "cell_type": "markdown",
   "metadata": {},
   "source": [
    "# Environment"
   ]
  },
  {
   "cell_type": "markdown",
   "metadata": {},
   "source": [
    "## Library Imports"
   ]
  },
  {
   "cell_type": "code",
   "execution_count": 1,
   "metadata": {
    "ExecuteTime": {
     "end_time": "2019-12-15T02:58:49.170394Z",
     "start_time": "2019-12-15T02:58:48.965784Z"
    }
   },
   "outputs": [],
   "source": [
    "import os\n",
    "\n",
    "import numpy as np\n",
    "import pandas as pd\n",
    "\n",
    "import matplotlib.pyplot as plt\n",
    "import seaborn as sns\n",
    "%matplotlib inline\n",
    "plt.style.use('ggplot')"
   ]
  },
  {
   "cell_type": "markdown",
   "metadata": {},
   "source": [
    "## Local Imports"
   ]
  },
  {
   "cell_type": "code",
   "execution_count": 2,
   "metadata": {},
   "outputs": [],
   "source": [
    "from phuc import data_process, file\n",
    "from phuc import visualization as vs"
   ]
  },
  {
   "cell_type": "markdown",
   "metadata": {},
   "source": [
    "## Reload data path"
   ]
  },
  {
   "cell_type": "code",
   "execution_count": 3,
   "metadata": {},
   "outputs": [
    {
     "name": "stdout",
     "output_type": "stream",
     "text": [
      "Loaded file data_path.pkl\n",
      "Directory  /home/phuc/Desktop/Work/Data Sience/kaggle_competition/SafeDirverPrediction  already exists\n",
      "Saved file data_path.pkl\n"
     ]
    }
   ],
   "source": [
    "from phuc.file import standard_template\n",
    "\n",
    "standard_template.save_data_path()"
   ]
  },
  {
   "cell_type": "markdown",
   "metadata": {},
   "source": [
    "##  Setup Pandas"
   ]
  },
  {
   "cell_type": "code",
   "execution_count": 4,
   "metadata": {},
   "outputs": [],
   "source": [
    "pd.set_option('display.max_rows', 100)\n",
    "pd.set_option('display.max_columns', 100)"
   ]
  },
  {
   "cell_type": "markdown",
   "metadata": {},
   "source": [
    "## Set up data path"
   ]
  },
  {
   "cell_type": "code",
   "execution_count": 5,
   "metadata": {},
   "outputs": [],
   "source": [
    "CURR_DIR = os.getcwd().split('/src')[0]"
   ]
  },
  {
   "cell_type": "code",
   "execution_count": 6,
   "metadata": {},
   "outputs": [
    {
     "name": "stdout",
     "output_type": "stream",
     "text": [
      "Loaded file data_path.pkl\n"
     ]
    }
   ],
   "source": [
    "data_path = file.load_pickle(CURR_DIR + '/data_path.pkl')"
   ]
  },
  {
   "cell_type": "code",
   "execution_count": 7,
   "metadata": {},
   "outputs": [
    {
     "name": "stdout",
     "output_type": "stream",
     "text": [
      "PROJECT_DIR\n",
      "PROCESSED_DIR\n",
      "WORKING_DIR\n",
      "RAW_DIR\n",
      "EXTERNAL_DIR\n",
      "SAMPLE_SUBMISSION_CSV_PATH\n",
      "TEST_CSV_PATH\n",
      "TRAIN_CSV_PATH\n",
      "TRAIN_CSV_PKL_PATH\n"
     ]
    }
   ],
   "source": [
    "for key in data_path: print(key)"
   ]
  },
  {
   "cell_type": "markdown",
   "metadata": {},
   "source": [
    "# Load Data"
   ]
  },
  {
   "cell_type": "markdown",
   "metadata": {},
   "source": [
    "## train_csv"
   ]
  },
  {
   "cell_type": "code",
   "execution_count": 8,
   "metadata": {},
   "outputs": [
    {
     "name": "stdout",
     "output_type": "stream",
     "text": [
      "Loaded file train_csv.pkl\n"
     ]
    }
   ],
   "source": [
    "train_csv = file.load_pickle(data_path['TRAIN_CSV_PKL_PATH'])"
   ]
  },
  {
   "cell_type": "code",
   "execution_count": 9,
   "metadata": {
    "scrolled": true
   },
   "outputs": [
    {
     "name": "stdout",
     "output_type": "stream",
     "text": [
      "<class 'pandas.core.frame.DataFrame'>\n",
      "RangeIndex: 595212 entries, 0 to 595211\n",
      "Data columns (total 59 columns):\n",
      "id                595212 non-null uint32\n",
      "target            595212 non-null uint8\n",
      "ps_ind_01         595212 non-null uint8\n",
      "ps_ind_02_cat     595212 non-null int8\n",
      "ps_ind_03         595212 non-null uint8\n",
      "ps_ind_04_cat     595212 non-null int8\n",
      "ps_ind_05_cat     595212 non-null int8\n",
      "ps_ind_06_bin     595212 non-null uint8\n",
      "ps_ind_07_bin     595212 non-null uint8\n",
      "ps_ind_08_bin     595212 non-null uint8\n",
      "ps_ind_09_bin     595212 non-null uint8\n",
      "ps_ind_10_bin     595212 non-null uint8\n",
      "ps_ind_11_bin     595212 non-null uint8\n",
      "ps_ind_12_bin     595212 non-null uint8\n",
      "ps_ind_13_bin     595212 non-null uint8\n",
      "ps_ind_14         595212 non-null uint8\n",
      "ps_ind_15         595212 non-null uint8\n",
      "ps_ind_16_bin     595212 non-null uint8\n",
      "ps_ind_17_bin     595212 non-null uint8\n",
      "ps_ind_18_bin     595212 non-null uint8\n",
      "ps_reg_01         595212 non-null float32\n",
      "ps_reg_02         595212 non-null float32\n",
      "ps_reg_03         595212 non-null float32\n",
      "ps_car_01_cat     595212 non-null int8\n",
      "ps_car_02_cat     595212 non-null int8\n",
      "ps_car_03_cat     595212 non-null int8\n",
      "ps_car_04_cat     595212 non-null uint8\n",
      "ps_car_05_cat     595212 non-null int8\n",
      "ps_car_06_cat     595212 non-null uint8\n",
      "ps_car_07_cat     595212 non-null int8\n",
      "ps_car_08_cat     595212 non-null uint8\n",
      "ps_car_09_cat     595212 non-null int8\n",
      "ps_car_10_cat     595212 non-null uint8\n",
      "ps_car_11_cat     595212 non-null uint8\n",
      "ps_car_11         595212 non-null int8\n",
      "ps_car_12         595212 non-null float32\n",
      "ps_car_13         595212 non-null float32\n",
      "ps_car_14         595212 non-null float32\n",
      "ps_car_15         595212 non-null float32\n",
      "ps_calc_01        595212 non-null float32\n",
      "ps_calc_02        595212 non-null float32\n",
      "ps_calc_03        595212 non-null float32\n",
      "ps_calc_04        595212 non-null uint8\n",
      "ps_calc_05        595212 non-null uint8\n",
      "ps_calc_06        595212 non-null uint8\n",
      "ps_calc_07        595212 non-null uint8\n",
      "ps_calc_08        595212 non-null uint8\n",
      "ps_calc_09        595212 non-null uint8\n",
      "ps_calc_10        595212 non-null uint8\n",
      "ps_calc_11        595212 non-null uint8\n",
      "ps_calc_12        595212 non-null uint8\n",
      "ps_calc_13        595212 non-null uint8\n",
      "ps_calc_14        595212 non-null uint8\n",
      "ps_calc_15_bin    595212 non-null uint8\n",
      "ps_calc_16_bin    595212 non-null uint8\n",
      "ps_calc_17_bin    595212 non-null uint8\n",
      "ps_calc_18_bin    595212 non-null uint8\n",
      "ps_calc_19_bin    595212 non-null uint8\n",
      "ps_calc_20_bin    595212 non-null uint8\n",
      "dtypes: float32(10), int8(10), uint32(1), uint8(38)\n",
      "memory usage: 52.2 MB\n"
     ]
    }
   ],
   "source": [
    "train_csv.info()"
   ]
  },
  {
   "cell_type": "markdown",
   "metadata": {},
   "source": [
    "### nunique"
   ]
  },
  {
   "cell_type": "code",
   "execution_count": 11,
   "metadata": {
    "scrolled": true
   },
   "outputs": [
    {
     "data": {
      "text/plain": [
       "id                595212\n",
       "target                 2\n",
       "ps_ind_01              8\n",
       "ps_ind_02_cat          5\n",
       "ps_ind_03             12\n",
       "ps_ind_04_cat          3\n",
       "ps_ind_05_cat          8\n",
       "ps_ind_06_bin          2\n",
       "ps_ind_07_bin          2\n",
       "ps_ind_08_bin          2\n",
       "ps_ind_09_bin          2\n",
       "ps_ind_10_bin          2\n",
       "ps_ind_11_bin          2\n",
       "ps_ind_12_bin          2\n",
       "ps_ind_13_bin          2\n",
       "ps_ind_14              5\n",
       "ps_ind_15             14\n",
       "ps_ind_16_bin          2\n",
       "ps_ind_17_bin          2\n",
       "ps_ind_18_bin          2\n",
       "ps_reg_01             10\n",
       "ps_reg_02             19\n",
       "ps_reg_03           5013\n",
       "ps_car_01_cat         13\n",
       "ps_car_02_cat          3\n",
       "ps_car_03_cat          3\n",
       "ps_car_04_cat         10\n",
       "ps_car_05_cat          3\n",
       "ps_car_06_cat         18\n",
       "ps_car_07_cat          3\n",
       "ps_car_08_cat          2\n",
       "ps_car_09_cat          6\n",
       "ps_car_10_cat          3\n",
       "ps_car_11_cat        104\n",
       "ps_car_11              5\n",
       "ps_car_12            184\n",
       "ps_car_13          70416\n",
       "ps_car_14            850\n",
       "ps_car_15             15\n",
       "ps_calc_01            10\n",
       "ps_calc_02            10\n",
       "ps_calc_03            10\n",
       "ps_calc_04             6\n",
       "ps_calc_05             7\n",
       "ps_calc_06            11\n",
       "ps_calc_07            10\n",
       "ps_calc_08            11\n",
       "ps_calc_09             8\n",
       "ps_calc_10            26\n",
       "ps_calc_11            20\n",
       "ps_calc_12            11\n",
       "ps_calc_13            14\n",
       "ps_calc_14            24\n",
       "ps_calc_15_bin         2\n",
       "ps_calc_16_bin         2\n",
       "ps_calc_17_bin         2\n",
       "ps_calc_18_bin         2\n",
       "ps_calc_19_bin         2\n",
       "ps_calc_20_bin         2\n",
       "dtype: int64"
      ]
     },
     "execution_count": 11,
     "metadata": {},
     "output_type": "execute_result"
    }
   ],
   "source": [
    "train_csv.nunique()"
   ]
  },
  {
   "cell_type": "markdown",
   "metadata": {},
   "source": [
    "### NaN"
   ]
  },
  {
   "cell_type": "code",
   "execution_count": 13,
   "metadata": {},
   "outputs": [],
   "source": [
    "train_nan = train_csv.copy().replace(-1,np.NaN)"
   ]
  },
  {
   "cell_type": "code",
   "execution_count": 20,
   "metadata": {
    "scrolled": true
   },
   "outputs": [
    {
     "data": {
      "text/plain": [
       "Index(['ps_ind_02_cat', 'ps_ind_04_cat', 'ps_ind_05_cat', 'ps_reg_03',\n",
       "       'ps_car_01_cat', 'ps_car_02_cat', 'ps_car_03_cat', 'ps_car_05_cat',\n",
       "       'ps_car_07_cat', 'ps_car_09_cat', 'ps_car_11', 'ps_car_12',\n",
       "       'ps_car_14'],\n",
       "      dtype='object')"
      ]
     },
     "execution_count": 20,
     "metadata": {},
     "output_type": "execute_result"
    }
   ],
   "source": [
    "train_csv.columns[train_nan.isna().sum() > 0]"
   ]
  },
  {
   "cell_type": "code",
   "execution_count": 27,
   "metadata": {
    "scrolled": true
   },
   "outputs": [
    {
     "data": {
      "text/plain": [
       "id                 0.000000\n",
       "target             0.000000\n",
       "ps_ind_01          0.000000\n",
       "ps_ind_02_cat      0.036290\n",
       "ps_ind_03          0.000000\n",
       "ps_ind_04_cat      0.013945\n",
       "ps_ind_05_cat      0.975955\n",
       "ps_ind_06_bin      0.000000\n",
       "ps_ind_07_bin      0.000000\n",
       "ps_ind_08_bin      0.000000\n",
       "ps_ind_09_bin      0.000000\n",
       "ps_ind_10_bin      0.000000\n",
       "ps_ind_11_bin      0.000000\n",
       "ps_ind_12_bin      0.000000\n",
       "ps_ind_13_bin      0.000000\n",
       "ps_ind_14          0.000000\n",
       "ps_ind_15          0.000000\n",
       "ps_ind_16_bin      0.000000\n",
       "ps_ind_17_bin      0.000000\n",
       "ps_ind_18_bin      0.000000\n",
       "ps_reg_01          0.000000\n",
       "ps_reg_02          0.000000\n",
       "ps_reg_03         18.106490\n",
       "ps_car_01_cat      0.017977\n",
       "ps_car_02_cat      0.000840\n",
       "ps_car_03_cat     69.089837\n",
       "ps_car_04_cat      0.000000\n",
       "ps_car_05_cat     44.782531\n",
       "ps_car_06_cat      0.000000\n",
       "ps_car_07_cat      1.930237\n",
       "ps_car_08_cat      0.000000\n",
       "ps_car_09_cat      0.095596\n",
       "ps_car_10_cat      0.000000\n",
       "ps_car_11_cat      0.000000\n",
       "ps_car_11          0.000840\n",
       "ps_car_12          0.000168\n",
       "ps_car_13          0.000000\n",
       "ps_car_14          7.160474\n",
       "ps_car_15          0.000000\n",
       "ps_calc_01         0.000000\n",
       "ps_calc_02         0.000000\n",
       "ps_calc_03         0.000000\n",
       "ps_calc_04         0.000000\n",
       "ps_calc_05         0.000000\n",
       "ps_calc_06         0.000000\n",
       "ps_calc_07         0.000000\n",
       "ps_calc_08         0.000000\n",
       "ps_calc_09         0.000000\n",
       "ps_calc_10         0.000000\n",
       "ps_calc_11         0.000000\n",
       "ps_calc_12         0.000000\n",
       "ps_calc_13         0.000000\n",
       "ps_calc_14         0.000000\n",
       "ps_calc_15_bin     0.000000\n",
       "ps_calc_16_bin     0.000000\n",
       "ps_calc_17_bin     0.000000\n",
       "ps_calc_18_bin     0.000000\n",
       "ps_calc_19_bin     0.000000\n",
       "ps_calc_20_bin     0.000000\n",
       "dtype: float64"
      ]
     },
     "execution_count": 27,
     "metadata": {},
     "output_type": "execute_result"
    }
   ],
   "source": [
    "# nan percentage\n",
    "(train_nan.isna().sum() / train_nan.shape[0]) * 100"
   ]
  },
  {
   "cell_type": "code",
   "execution_count": 32,
   "metadata": {
    "scrolled": true
   },
   "outputs": [
    {
     "name": "stdout",
     "output_type": "stream",
     "text": [
      "NAN_columns: 0/0 ,Counts :124931\n",
      "Index([], dtype='object')\n",
      "\n",
      "NAN_columns: 13/1 ,Counts :156295\n",
      "Index(['ps_ind_02_cat', 'ps_ind_04_cat', 'ps_ind_05_cat', 'ps_reg_03',\n",
      "       'ps_car_01_cat', 'ps_car_02_cat', 'ps_car_03_cat', 'ps_car_05_cat',\n",
      "       'ps_car_07_cat', 'ps_car_09_cat', 'ps_car_11', 'ps_car_12',\n",
      "       'ps_car_14'],\n",
      "      dtype='object')\n",
      "\n",
      "NAN_columns: 12/2 ,Counts :254982\n",
      "Index(['ps_ind_02_cat', 'ps_ind_04_cat', 'ps_ind_05_cat', 'ps_reg_03',\n",
      "       'ps_car_01_cat', 'ps_car_02_cat', 'ps_car_03_cat', 'ps_car_05_cat',\n",
      "       'ps_car_07_cat', 'ps_car_09_cat', 'ps_car_11', 'ps_car_14'],\n",
      "      dtype='object')\n",
      "\n",
      "NAN_columns: 10/3 ,Counts :56042\n",
      "Index(['ps_ind_02_cat', 'ps_ind_05_cat', 'ps_reg_03', 'ps_car_01_cat',\n",
      "       'ps_car_03_cat', 'ps_car_05_cat', 'ps_car_07_cat', 'ps_car_09_cat',\n",
      "       'ps_car_11', 'ps_car_14'],\n",
      "      dtype='object')\n",
      "\n",
      "NAN_columns: 9/4 ,Counts :2883\n",
      "Index(['ps_ind_02_cat', 'ps_ind_05_cat', 'ps_reg_03', 'ps_car_01_cat',\n",
      "       'ps_car_03_cat', 'ps_car_05_cat', 'ps_car_07_cat', 'ps_car_09_cat',\n",
      "       'ps_car_14'],\n",
      "      dtype='object')\n",
      "\n",
      "NAN_columns: 6/6 ,Counts :19\n",
      "Index(['ps_ind_02_cat', 'ps_ind_04_cat', 'ps_ind_05_cat', 'ps_reg_03',\n",
      "       'ps_car_01_cat', 'ps_car_07_cat'],\n",
      "      dtype='object')\n",
      "\n",
      "NAN_columns: 8/7 ,Counts :53\n",
      "Index(['ps_ind_02_cat', 'ps_ind_04_cat', 'ps_ind_05_cat', 'ps_reg_03',\n",
      "       'ps_car_01_cat', 'ps_car_07_cat', 'ps_car_09_cat', 'ps_car_14'],\n",
      "      dtype='object')\n",
      "\n",
      "NAN_columns: 8/8 ,Counts :7\n",
      "Index(['ps_ind_02_cat', 'ps_ind_04_cat', 'ps_ind_05_cat', 'ps_reg_03',\n",
      "       'ps_car_01_cat', 'ps_car_07_cat', 'ps_car_09_cat', 'ps_car_14'],\n",
      "      dtype='object')\n",
      "\n"
     ]
    }
   ],
   "source": [
    "data_process.nan_counts(train_nan)"
   ]
  },
  {
   "cell_type": "code",
   "execution_count": 16,
   "metadata": {},
   "outputs": [
    {
     "data": {
      "text/plain": [
       "<matplotlib.axes._subplots.AxesSubplot at 0x7f1680f3c518>"
      ]
     },
     "execution_count": 16,
     "metadata": {},
     "output_type": "execute_result"
    },
    {
     "data": {
      "image/png": "[encoded data removed]",
      "text/plain": [
       "<Figure size 1152x720 with 2 Axes>"
      ]
     },
     "metadata": {
      "needs_background": "light"
     },
     "output_type": "display_data"
    }
   ],
   "source": [
    "import missingno as msno\n",
    "\n",
    "msno.matrix(df=train_nan.iloc[:,2:39], figsize=(16, 10))"
   ]
  },
  {
   "cell_type": "code",
   "execution_count": null,
   "metadata": {},
   "outputs": [],
   "source": [
    "del train_nan"
   ]
  },
  {
   "cell_type": "markdown",
   "metadata": {},
   "source": [
    "### Label"
   ]
  },
  {
   "cell_type": "code",
   "execution_count": 16,
   "metadata": {},
   "outputs": [
    {
     "data": {
      "image/png": "[encoded data removed]",
      "text/plain": [
       "<Figure size 1008x576 with 1 Axes>"
      ]
     },
     "metadata": {
      "needs_background": "light"
     },
     "output_type": "display_data"
    }
   ],
   "source": [
    "plt.figure(figsize=(14,8))\n",
    "vs.bar(train_csv, 'target')"
   ]
  },
  {
   "cell_type": "markdown",
   "metadata": {},
   "source": [
    "# metadata"
   ]
  },
  {
   "cell_type": "code",
   "execution_count": 44,
   "metadata": {},
   "outputs": [
    {
     "data": {
      "text/plain": [
       "dtype('int8')"
      ]
     },
     "execution_count": 44,
     "metadata": {},
     "output_type": "execute_result"
    }
   ],
   "source": [
    "train_csv['ps_car_07_cat'].dtype"
   ]
  },
  {
   "cell_type": "code",
   "execution_count": 32,
   "metadata": {
    "scrolled": false
   },
   "outputs": [
    {
     "data": {
      "text/html": [
       "<div>\n",
       "<style scoped>\n",
       "    .dataframe tbody tr th:only-of-type {\n",
       "        vertical-align: middle;\n",
       "    }\n",
       "\n",
       "    .dataframe tbody tr th {\n",
       "        vertical-align: top;\n",
       "    }\n",
       "\n",
       "    .dataframe thead th {\n",
       "        text-align: right;\n",
       "    }\n",
       "</style>\n",
       "<table border=\"1\" class=\"dataframe\">\n",
       "  <thead>\n",
       "    <tr style=\"text-align: right;\">\n",
       "      <th></th>\n",
       "      <th>role</th>\n",
       "      <th>level</th>\n",
       "      <th>keep</th>\n",
       "      <th>dtype</th>\n",
       "      <th>nan_counts</th>\n",
       "      <th>nunique</th>\n",
       "    </tr>\n",
       "    <tr>\n",
       "      <th>varname</th>\n",
       "      <th></th>\n",
       "      <th></th>\n",
       "      <th></th>\n",
       "      <th></th>\n",
       "      <th></th>\n",
       "      <th></th>\n",
       "    </tr>\n",
       "  </thead>\n",
       "  <tbody>\n",
       "    <tr>\n",
       "      <th>id</th>\n",
       "      <td>id</td>\n",
       "      <td>nominal</td>\n",
       "      <td>False</td>\n",
       "      <td>uint32</td>\n",
       "      <td>0</td>\n",
       "      <td>595212</td>\n",
       "    </tr>\n",
       "    <tr>\n",
       "      <th>target</th>\n",
       "      <td>target</td>\n",
       "      <td>binary</td>\n",
       "      <td>True</td>\n",
       "      <td>uint8</td>\n",
       "      <td>0</td>\n",
       "      <td>2</td>\n",
       "    </tr>\n",
       "    <tr>\n",
       "      <th>ps_ind_01</th>\n",
       "      <td>input</td>\n",
       "      <td>binary</td>\n",
       "      <td>True</td>\n",
       "      <td>uint8</td>\n",
       "      <td>0</td>\n",
       "      <td>8</td>\n",
       "    </tr>\n",
       "    <tr>\n",
       "      <th>ps_ind_02_cat</th>\n",
       "      <td>input</td>\n",
       "      <td>nominal</td>\n",
       "      <td>True</td>\n",
       "      <td>int8</td>\n",
       "      <td>216</td>\n",
       "      <td>5</td>\n",
       "    </tr>\n",
       "    <tr>\n",
       "      <th>ps_ind_03</th>\n",
       "      <td>input</td>\n",
       "      <td>nominal</td>\n",
       "      <td>True</td>\n",
       "      <td>uint8</td>\n",
       "      <td>0</td>\n",
       "      <td>12</td>\n",
       "    </tr>\n",
       "    <tr>\n",
       "      <th>ps_ind_04_cat</th>\n",
       "      <td>input</td>\n",
       "      <td>nominal</td>\n",
       "      <td>True</td>\n",
       "      <td>int8</td>\n",
       "      <td>83</td>\n",
       "      <td>3</td>\n",
       "    </tr>\n",
       "    <tr>\n",
       "      <th>ps_ind_05_cat</th>\n",
       "      <td>input</td>\n",
       "      <td>nominal</td>\n",
       "      <td>True</td>\n",
       "      <td>int8</td>\n",
       "      <td>5809</td>\n",
       "      <td>8</td>\n",
       "    </tr>\n",
       "    <tr>\n",
       "      <th>ps_ind_06_bin</th>\n",
       "      <td>input</td>\n",
       "      <td>binary</td>\n",
       "      <td>True</td>\n",
       "      <td>uint8</td>\n",
       "      <td>0</td>\n",
       "      <td>2</td>\n",
       "    </tr>\n",
       "    <tr>\n",
       "      <th>ps_ind_07_bin</th>\n",
       "      <td>input</td>\n",
       "      <td>binary</td>\n",
       "      <td>True</td>\n",
       "      <td>uint8</td>\n",
       "      <td>0</td>\n",
       "      <td>2</td>\n",
       "    </tr>\n",
       "    <tr>\n",
       "      <th>ps_ind_08_bin</th>\n",
       "      <td>input</td>\n",
       "      <td>binary</td>\n",
       "      <td>True</td>\n",
       "      <td>uint8</td>\n",
       "      <td>0</td>\n",
       "      <td>2</td>\n",
       "    </tr>\n",
       "    <tr>\n",
       "      <th>ps_ind_09_bin</th>\n",
       "      <td>input</td>\n",
       "      <td>binary</td>\n",
       "      <td>True</td>\n",
       "      <td>uint8</td>\n",
       "      <td>0</td>\n",
       "      <td>2</td>\n",
       "    </tr>\n",
       "    <tr>\n",
       "      <th>ps_ind_10_bin</th>\n",
       "      <td>input</td>\n",
       "      <td>binary</td>\n",
       "      <td>True</td>\n",
       "      <td>uint8</td>\n",
       "      <td>0</td>\n",
       "      <td>2</td>\n",
       "    </tr>\n",
       "    <tr>\n",
       "      <th>ps_ind_11_bin</th>\n",
       "      <td>input</td>\n",
       "      <td>binary</td>\n",
       "      <td>True</td>\n",
       "      <td>uint8</td>\n",
       "      <td>0</td>\n",
       "      <td>2</td>\n",
       "    </tr>\n",
       "    <tr>\n",
       "      <th>ps_ind_12_bin</th>\n",
       "      <td>input</td>\n",
       "      <td>binary</td>\n",
       "      <td>True</td>\n",
       "      <td>uint8</td>\n",
       "      <td>0</td>\n",
       "      <td>2</td>\n",
       "    </tr>\n",
       "    <tr>\n",
       "      <th>ps_ind_13_bin</th>\n",
       "      <td>input</td>\n",
       "      <td>binary</td>\n",
       "      <td>True</td>\n",
       "      <td>uint8</td>\n",
       "      <td>0</td>\n",
       "      <td>2</td>\n",
       "    </tr>\n",
       "    <tr>\n",
       "      <th>ps_ind_14</th>\n",
       "      <td>input</td>\n",
       "      <td>binary</td>\n",
       "      <td>True</td>\n",
       "      <td>uint8</td>\n",
       "      <td>0</td>\n",
       "      <td>5</td>\n",
       "    </tr>\n",
       "    <tr>\n",
       "      <th>ps_ind_15</th>\n",
       "      <td>input</td>\n",
       "      <td>binary</td>\n",
       "      <td>True</td>\n",
       "      <td>uint8</td>\n",
       "      <td>0</td>\n",
       "      <td>14</td>\n",
       "    </tr>\n",
       "    <tr>\n",
       "      <th>ps_ind_16_bin</th>\n",
       "      <td>input</td>\n",
       "      <td>binary</td>\n",
       "      <td>True</td>\n",
       "      <td>uint8</td>\n",
       "      <td>0</td>\n",
       "      <td>2</td>\n",
       "    </tr>\n",
       "    <tr>\n",
       "      <th>ps_ind_17_bin</th>\n",
       "      <td>input</td>\n",
       "      <td>binary</td>\n",
       "      <td>True</td>\n",
       "      <td>uint8</td>\n",
       "      <td>0</td>\n",
       "      <td>2</td>\n",
       "    </tr>\n",
       "    <tr>\n",
       "      <th>ps_ind_18_bin</th>\n",
       "      <td>input</td>\n",
       "      <td>binary</td>\n",
       "      <td>True</td>\n",
       "      <td>uint8</td>\n",
       "      <td>0</td>\n",
       "      <td>2</td>\n",
       "    </tr>\n",
       "    <tr>\n",
       "      <th>ps_reg_01</th>\n",
       "      <td>input</td>\n",
       "      <td>binary</td>\n",
       "      <td>True</td>\n",
       "      <td>float32</td>\n",
       "      <td>0</td>\n",
       "      <td>10</td>\n",
       "    </tr>\n",
       "    <tr>\n",
       "      <th>ps_reg_02</th>\n",
       "      <td>input</td>\n",
       "      <td>binary</td>\n",
       "      <td>True</td>\n",
       "      <td>float32</td>\n",
       "      <td>0</td>\n",
       "      <td>19</td>\n",
       "    </tr>\n",
       "    <tr>\n",
       "      <th>ps_reg_03</th>\n",
       "      <td>input</td>\n",
       "      <td>binary</td>\n",
       "      <td>True</td>\n",
       "      <td>float32</td>\n",
       "      <td>107772</td>\n",
       "      <td>5013</td>\n",
       "    </tr>\n",
       "    <tr>\n",
       "      <th>ps_car_01_cat</th>\n",
       "      <td>input</td>\n",
       "      <td>nominal</td>\n",
       "      <td>True</td>\n",
       "      <td>int8</td>\n",
       "      <td>107</td>\n",
       "      <td>13</td>\n",
       "    </tr>\n",
       "    <tr>\n",
       "      <th>ps_car_02_cat</th>\n",
       "      <td>input</td>\n",
       "      <td>nominal</td>\n",
       "      <td>True</td>\n",
       "      <td>int8</td>\n",
       "      <td>5</td>\n",
       "      <td>3</td>\n",
       "    </tr>\n",
       "    <tr>\n",
       "      <th>ps_car_03_cat</th>\n",
       "      <td>input</td>\n",
       "      <td>nominal</td>\n",
       "      <td>True</td>\n",
       "      <td>int8</td>\n",
       "      <td>411231</td>\n",
       "      <td>3</td>\n",
       "    </tr>\n",
       "    <tr>\n",
       "      <th>ps_car_04_cat</th>\n",
       "      <td>input</td>\n",
       "      <td>nominal</td>\n",
       "      <td>True</td>\n",
       "      <td>uint8</td>\n",
       "      <td>0</td>\n",
       "      <td>10</td>\n",
       "    </tr>\n",
       "    <tr>\n",
       "      <th>ps_car_05_cat</th>\n",
       "      <td>input</td>\n",
       "      <td>nominal</td>\n",
       "      <td>True</td>\n",
       "      <td>int8</td>\n",
       "      <td>266551</td>\n",
       "      <td>3</td>\n",
       "    </tr>\n",
       "    <tr>\n",
       "      <th>ps_car_06_cat</th>\n",
       "      <td>input</td>\n",
       "      <td>nominal</td>\n",
       "      <td>True</td>\n",
       "      <td>uint8</td>\n",
       "      <td>0</td>\n",
       "      <td>18</td>\n",
       "    </tr>\n",
       "    <tr>\n",
       "      <th>ps_car_07_cat</th>\n",
       "      <td>input</td>\n",
       "      <td>nominal</td>\n",
       "      <td>True</td>\n",
       "      <td>int8</td>\n",
       "      <td>11489</td>\n",
       "      <td>3</td>\n",
       "    </tr>\n",
       "    <tr>\n",
       "      <th>ps_car_08_cat</th>\n",
       "      <td>input</td>\n",
       "      <td>nominal</td>\n",
       "      <td>True</td>\n",
       "      <td>uint8</td>\n",
       "      <td>0</td>\n",
       "      <td>2</td>\n",
       "    </tr>\n",
       "    <tr>\n",
       "      <th>ps_car_09_cat</th>\n",
       "      <td>input</td>\n",
       "      <td>nominal</td>\n",
       "      <td>True</td>\n",
       "      <td>int8</td>\n",
       "      <td>569</td>\n",
       "      <td>6</td>\n",
       "    </tr>\n",
       "    <tr>\n",
       "      <th>ps_car_10_cat</th>\n",
       "      <td>input</td>\n",
       "      <td>nominal</td>\n",
       "      <td>True</td>\n",
       "      <td>uint8</td>\n",
       "      <td>0</td>\n",
       "      <td>3</td>\n",
       "    </tr>\n",
       "    <tr>\n",
       "      <th>ps_car_11_cat</th>\n",
       "      <td>input</td>\n",
       "      <td>nominal</td>\n",
       "      <td>True</td>\n",
       "      <td>uint8</td>\n",
       "      <td>0</td>\n",
       "      <td>104</td>\n",
       "    </tr>\n",
       "    <tr>\n",
       "      <th>ps_car_11</th>\n",
       "      <td>input</td>\n",
       "      <td>nominal</td>\n",
       "      <td>True</td>\n",
       "      <td>int8</td>\n",
       "      <td>5</td>\n",
       "      <td>5</td>\n",
       "    </tr>\n",
       "    <tr>\n",
       "      <th>ps_car_12</th>\n",
       "      <td>input</td>\n",
       "      <td>nominal</td>\n",
       "      <td>True</td>\n",
       "      <td>float32</td>\n",
       "      <td>1</td>\n",
       "      <td>184</td>\n",
       "    </tr>\n",
       "    <tr>\n",
       "      <th>ps_car_13</th>\n",
       "      <td>input</td>\n",
       "      <td>nominal</td>\n",
       "      <td>True</td>\n",
       "      <td>float32</td>\n",
       "      <td>0</td>\n",
       "      <td>70416</td>\n",
       "    </tr>\n",
       "    <tr>\n",
       "      <th>ps_car_14</th>\n",
       "      <td>input</td>\n",
       "      <td>nominal</td>\n",
       "      <td>True</td>\n",
       "      <td>float32</td>\n",
       "      <td>42620</td>\n",
       "      <td>850</td>\n",
       "    </tr>\n",
       "    <tr>\n",
       "      <th>ps_car_15</th>\n",
       "      <td>input</td>\n",
       "      <td>nominal</td>\n",
       "      <td>True</td>\n",
       "      <td>float32</td>\n",
       "      <td>0</td>\n",
       "      <td>15</td>\n",
       "    </tr>\n",
       "    <tr>\n",
       "      <th>ps_calc_01</th>\n",
       "      <td>input</td>\n",
       "      <td>nominal</td>\n",
       "      <td>True</td>\n",
       "      <td>float32</td>\n",
       "      <td>0</td>\n",
       "      <td>10</td>\n",
       "    </tr>\n",
       "    <tr>\n",
       "      <th>ps_calc_02</th>\n",
       "      <td>input</td>\n",
       "      <td>nominal</td>\n",
       "      <td>True</td>\n",
       "      <td>float32</td>\n",
       "      <td>0</td>\n",
       "      <td>10</td>\n",
       "    </tr>\n",
       "    <tr>\n",
       "      <th>ps_calc_03</th>\n",
       "      <td>input</td>\n",
       "      <td>nominal</td>\n",
       "      <td>True</td>\n",
       "      <td>float32</td>\n",
       "      <td>0</td>\n",
       "      <td>10</td>\n",
       "    </tr>\n",
       "    <tr>\n",
       "      <th>ps_calc_04</th>\n",
       "      <td>input</td>\n",
       "      <td>nominal</td>\n",
       "      <td>True</td>\n",
       "      <td>uint8</td>\n",
       "      <td>0</td>\n",
       "      <td>6</td>\n",
       "    </tr>\n",
       "    <tr>\n",
       "      <th>ps_calc_05</th>\n",
       "      <td>input</td>\n",
       "      <td>nominal</td>\n",
       "      <td>True</td>\n",
       "      <td>uint8</td>\n",
       "      <td>0</td>\n",
       "      <td>7</td>\n",
       "    </tr>\n",
       "    <tr>\n",
       "      <th>ps_calc_06</th>\n",
       "      <td>input</td>\n",
       "      <td>nominal</td>\n",
       "      <td>True</td>\n",
       "      <td>uint8</td>\n",
       "      <td>0</td>\n",
       "      <td>11</td>\n",
       "    </tr>\n",
       "    <tr>\n",
       "      <th>ps_calc_07</th>\n",
       "      <td>input</td>\n",
       "      <td>nominal</td>\n",
       "      <td>True</td>\n",
       "      <td>uint8</td>\n",
       "      <td>0</td>\n",
       "      <td>10</td>\n",
       "    </tr>\n",
       "    <tr>\n",
       "      <th>ps_calc_08</th>\n",
       "      <td>input</td>\n",
       "      <td>nominal</td>\n",
       "      <td>True</td>\n",
       "      <td>uint8</td>\n",
       "      <td>0</td>\n",
       "      <td>11</td>\n",
       "    </tr>\n",
       "    <tr>\n",
       "      <th>ps_calc_09</th>\n",
       "      <td>input</td>\n",
       "      <td>nominal</td>\n",
       "      <td>True</td>\n",
       "      <td>uint8</td>\n",
       "      <td>0</td>\n",
       "      <td>8</td>\n",
       "    </tr>\n",
       "    <tr>\n",
       "      <th>ps_calc_10</th>\n",
       "      <td>input</td>\n",
       "      <td>nominal</td>\n",
       "      <td>True</td>\n",
       "      <td>uint8</td>\n",
       "      <td>0</td>\n",
       "      <td>26</td>\n",
       "    </tr>\n",
       "    <tr>\n",
       "      <th>ps_calc_11</th>\n",
       "      <td>input</td>\n",
       "      <td>nominal</td>\n",
       "      <td>True</td>\n",
       "      <td>uint8</td>\n",
       "      <td>0</td>\n",
       "      <td>20</td>\n",
       "    </tr>\n",
       "    <tr>\n",
       "      <th>ps_calc_12</th>\n",
       "      <td>input</td>\n",
       "      <td>nominal</td>\n",
       "      <td>True</td>\n",
       "      <td>uint8</td>\n",
       "      <td>0</td>\n",
       "      <td>11</td>\n",
       "    </tr>\n",
       "    <tr>\n",
       "      <th>ps_calc_13</th>\n",
       "      <td>input</td>\n",
       "      <td>nominal</td>\n",
       "      <td>True</td>\n",
       "      <td>uint8</td>\n",
       "      <td>0</td>\n",
       "      <td>14</td>\n",
       "    </tr>\n",
       "    <tr>\n",
       "      <th>ps_calc_14</th>\n",
       "      <td>input</td>\n",
       "      <td>nominal</td>\n",
       "      <td>True</td>\n",
       "      <td>uint8</td>\n",
       "      <td>0</td>\n",
       "      <td>24</td>\n",
       "    </tr>\n",
       "    <tr>\n",
       "      <th>ps_calc_15_bin</th>\n",
       "      <td>input</td>\n",
       "      <td>binary</td>\n",
       "      <td>True</td>\n",
       "      <td>uint8</td>\n",
       "      <td>0</td>\n",
       "      <td>2</td>\n",
       "    </tr>\n",
       "    <tr>\n",
       "      <th>ps_calc_16_bin</th>\n",
       "      <td>input</td>\n",
       "      <td>binary</td>\n",
       "      <td>True</td>\n",
       "      <td>uint8</td>\n",
       "      <td>0</td>\n",
       "      <td>2</td>\n",
       "    </tr>\n",
       "    <tr>\n",
       "      <th>ps_calc_17_bin</th>\n",
       "      <td>input</td>\n",
       "      <td>binary</td>\n",
       "      <td>True</td>\n",
       "      <td>uint8</td>\n",
       "      <td>0</td>\n",
       "      <td>2</td>\n",
       "    </tr>\n",
       "    <tr>\n",
       "      <th>ps_calc_18_bin</th>\n",
       "      <td>input</td>\n",
       "      <td>binary</td>\n",
       "      <td>True</td>\n",
       "      <td>uint8</td>\n",
       "      <td>0</td>\n",
       "      <td>2</td>\n",
       "    </tr>\n",
       "    <tr>\n",
       "      <th>ps_calc_19_bin</th>\n",
       "      <td>input</td>\n",
       "      <td>binary</td>\n",
       "      <td>True</td>\n",
       "      <td>uint8</td>\n",
       "      <td>0</td>\n",
       "      <td>2</td>\n",
       "    </tr>\n",
       "    <tr>\n",
       "      <th>ps_calc_20_bin</th>\n",
       "      <td>input</td>\n",
       "      <td>binary</td>\n",
       "      <td>True</td>\n",
       "      <td>uint8</td>\n",
       "      <td>0</td>\n",
       "      <td>2</td>\n",
       "    </tr>\n",
       "  </tbody>\n",
       "</table>\n",
       "</div>"
      ],
      "text/plain": [
       "                  role    level   keep    dtype  nan_counts  nunique\n",
       "varname                                                             \n",
       "id                  id  nominal  False   uint32           0   595212\n",
       "target          target   binary   True    uint8           0        2\n",
       "ps_ind_01        input   binary   True    uint8           0        8\n",
       "ps_ind_02_cat    input  nominal   True     int8         216        5\n",
       "ps_ind_03        input  nominal   True    uint8           0       12\n",
       "ps_ind_04_cat    input  nominal   True     int8          83        3\n",
       "ps_ind_05_cat    input  nominal   True     int8        5809        8\n",
       "ps_ind_06_bin    input   binary   True    uint8           0        2\n",
       "ps_ind_07_bin    input   binary   True    uint8           0        2\n",
       "ps_ind_08_bin    input   binary   True    uint8           0        2\n",
       "ps_ind_09_bin    input   binary   True    uint8           0        2\n",
       "ps_ind_10_bin    input   binary   True    uint8           0        2\n",
       "ps_ind_11_bin    input   binary   True    uint8           0        2\n",
       "ps_ind_12_bin    input   binary   True    uint8           0        2\n",
       "ps_ind_13_bin    input   binary   True    uint8           0        2\n",
       "ps_ind_14        input   binary   True    uint8           0        5\n",
       "ps_ind_15        input   binary   True    uint8           0       14\n",
       "ps_ind_16_bin    input   binary   True    uint8           0        2\n",
       "ps_ind_17_bin    input   binary   True    uint8           0        2\n",
       "ps_ind_18_bin    input   binary   True    uint8           0        2\n",
       "ps_reg_01        input   binary   True  float32           0       10\n",
       "ps_reg_02        input   binary   True  float32           0       19\n",
       "ps_reg_03        input   binary   True  float32      107772     5013\n",
       "ps_car_01_cat    input  nominal   True     int8         107       13\n",
       "ps_car_02_cat    input  nominal   True     int8           5        3\n",
       "ps_car_03_cat    input  nominal   True     int8      411231        3\n",
       "ps_car_04_cat    input  nominal   True    uint8           0       10\n",
       "ps_car_05_cat    input  nominal   True     int8      266551        3\n",
       "ps_car_06_cat    input  nominal   True    uint8           0       18\n",
       "ps_car_07_cat    input  nominal   True     int8       11489        3\n",
       "ps_car_08_cat    input  nominal   True    uint8           0        2\n",
       "ps_car_09_cat    input  nominal   True     int8         569        6\n",
       "ps_car_10_cat    input  nominal   True    uint8           0        3\n",
       "ps_car_11_cat    input  nominal   True    uint8           0      104\n",
       "ps_car_11        input  nominal   True     int8           5        5\n",
       "ps_car_12        input  nominal   True  float32           1      184\n",
       "ps_car_13        input  nominal   True  float32           0    70416\n",
       "ps_car_14        input  nominal   True  float32       42620      850\n",
       "ps_car_15        input  nominal   True  float32           0       15\n",
       "ps_calc_01       input  nominal   True  float32           0       10\n",
       "ps_calc_02       input  nominal   True  float32           0       10\n",
       "ps_calc_03       input  nominal   True  float32           0       10\n",
       "ps_calc_04       input  nominal   True    uint8           0        6\n",
       "ps_calc_05       input  nominal   True    uint8           0        7\n",
       "ps_calc_06       input  nominal   True    uint8           0       11\n",
       "ps_calc_07       input  nominal   True    uint8           0       10\n",
       "ps_calc_08       input  nominal   True    uint8           0       11\n",
       "ps_calc_09       input  nominal   True    uint8           0        8\n",
       "ps_calc_10       input  nominal   True    uint8           0       26\n",
       "ps_calc_11       input  nominal   True    uint8           0       20\n",
       "ps_calc_12       input  nominal   True    uint8           0       11\n",
       "ps_calc_13       input  nominal   True    uint8           0       14\n",
       "ps_calc_14       input  nominal   True    uint8           0       24\n",
       "ps_calc_15_bin   input   binary   True    uint8           0        2\n",
       "ps_calc_16_bin   input   binary   True    uint8           0        2\n",
       "ps_calc_17_bin   input   binary   True    uint8           0        2\n",
       "ps_calc_18_bin   input   binary   True    uint8           0        2\n",
       "ps_calc_19_bin   input   binary   True    uint8           0        2\n",
       "ps_calc_20_bin   input   binary   True    uint8           0        2"
      ]
     },
     "execution_count": 32,
     "metadata": {},
     "output_type": "execute_result"
    }
   ],
   "source": [
    "\n",
    "for column in train_csv.columns:\n",
    "    if column in ['target', 'id']:\n",
    "        role = column\n",
    "    else:\n",
    "        role = 'input'\n",
    "\n",
    "    # Defining the level\n",
    "    if 'bin' in column or column == 'target':\n",
    "        level = 'binary'\n",
    "    elif 'cat' in column or column == 'id':\n",
    "        level = 'nominal'\n",
    "    elif train_csv[column].dtype == float:\n",
    "        level = 'interval'\n",
    "    elif train_csv[column].dtype == int:\n",
    "        level = 'ordinal'\n",
    "        \n",
    "    # Initialize keep to True for all variables except for id\n",
    "    keep = True\n",
    "    if column == 'id':\n",
    "        keep = False\n",
    "    \n",
    "    # Defining the data type \n",
    "    dtype = train_csv[column].dtype\n",
    "    \n",
    "    # Creating a Dict that contains all the metadata for the variable\n",
    "    column_dict = {\n",
    "        'varname': column,\n",
    "        'role': role,\n",
    "        'level': level,\n",
    "        'keep': keep,\n",
    "        'dtype': dtype\n",
    "    }\n",
    "    data.append(column_dict)\n",
    "    \n",
    "meta = pd.DataFrame(data, columns=['varname', 'role', 'level', 'keep', 'dtype'])\n",
    "meta.set_index('varname', inplace=True)\n",
    "\n",
    "meta['nan_counts'] = train_csv.copy().replace(-1,np.nan).isna().sum()\n",
    "meta['nunique'] = train_csv.nunique()\n",
    "\n",
    "meta"
   ]
  },
  {
   "cell_type": "code",
   "execution_count": 37,
   "metadata": {},
   "outputs": [
    {
     "data": {
      "text/html": [
       "<div>\n",
       "<style scoped>\n",
       "    .dataframe tbody tr th:only-of-type {\n",
       "        vertical-align: middle;\n",
       "    }\n",
       "\n",
       "    .dataframe tbody tr th {\n",
       "        vertical-align: top;\n",
       "    }\n",
       "\n",
       "    .dataframe thead th {\n",
       "        text-align: right;\n",
       "    }\n",
       "</style>\n",
       "<table border=\"1\" class=\"dataframe\">\n",
       "  <thead>\n",
       "    <tr style=\"text-align: right;\">\n",
       "      <th></th>\n",
       "      <th>role</th>\n",
       "      <th>level</th>\n",
       "      <th>count</th>\n",
       "    </tr>\n",
       "  </thead>\n",
       "  <tbody>\n",
       "    <tr>\n",
       "      <th>0</th>\n",
       "      <td>id</td>\n",
       "      <td>nominal</td>\n",
       "      <td>1</td>\n",
       "    </tr>\n",
       "    <tr>\n",
       "      <th>1</th>\n",
       "      <td>input</td>\n",
       "      <td>binary</td>\n",
       "      <td>23</td>\n",
       "    </tr>\n",
       "    <tr>\n",
       "      <th>2</th>\n",
       "      <td>input</td>\n",
       "      <td>nominal</td>\n",
       "      <td>34</td>\n",
       "    </tr>\n",
       "    <tr>\n",
       "      <th>3</th>\n",
       "      <td>target</td>\n",
       "      <td>binary</td>\n",
       "      <td>1</td>\n",
       "    </tr>\n",
       "  </tbody>\n",
       "</table>\n",
       "</div>"
      ],
      "text/plain": [
       "     role    level  count\n",
       "0      id  nominal      1\n",
       "1   input   binary     23\n",
       "2   input  nominal     34\n",
       "3  target   binary      1"
      ]
     },
     "execution_count": 37,
     "metadata": {},
     "output_type": "execute_result"
    }
   ],
   "source": [
    "\n",
    "\n",
    "pd.DataFrame({'count' : meta.groupby(['role', 'level'])['role'].size()}).reset_index()\n",
    "\n"
   ]
  },
  {
   "cell_type": "markdown",
   "metadata": {},
   "source": [
    "# Data Correlation"
   ]
  },
  {
   "cell_type": "markdown",
   "metadata": {},
   "source": [
    "## Float type"
   ]
  },
  {
   "cell_type": "code",
   "execution_count": 9,
   "metadata": {},
   "outputs": [],
   "source": [
    "train_float = train_csv.select_dtypes(include=['float32'])"
   ]
  },
  {
   "cell_type": "code",
   "execution_count": 11,
   "metadata": {},
   "outputs": [
    {
     "data": {
      "text/plain": [
       "Index(['ps_reg_01', 'ps_reg_02', 'ps_reg_03', 'ps_car_12', 'ps_car_13',\n",
       "       'ps_car_14', 'ps_car_15', 'ps_calc_01', 'ps_calc_02', 'ps_calc_03'],\n",
       "      dtype='object')"
      ]
     },
     "execution_count": 11,
     "metadata": {},
     "output_type": "execute_result"
    }
   ],
   "source": [
    "train_float.columns"
   ]
  },
  {
   "cell_type": "code",
   "execution_count": 10,
   "metadata": {},
   "outputs": [
    {
     "data": {
      "image/png": "[encoded data removed]",
      "text/plain": [
       "<Figure size 720x720 with 2 Axes>"
      ]
     },
     "metadata": {
      "needs_background": "light"
     },
     "output_type": "display_data"
    },
    {
     "data": {
      "text/plain": [
       "<Figure size 432x288 with 0 Axes>"
      ]
     },
     "metadata": {},
     "output_type": "display_data"
    }
   ],
   "source": [
    "vs.corrplot(train_float)"
   ]
  },
  {
   "cell_type": "markdown",
   "metadata": {},
   "source": [
    "## int type"
   ]
  },
  {
   "cell_type": "code",
   "execution_count": 18,
   "metadata": {},
   "outputs": [],
   "source": [
    "train_int = train_csv.select_dtypes(include=['int8','uint8','uint32'])"
   ]
  },
  {
   "cell_type": "code",
   "execution_count": 24,
   "metadata": {},
   "outputs": [
    {
     "data": {
      "image/png": "[encoded data removed]",
      "text/plain": [
       "<Figure size 1440x1440 with 2 Axes>"
      ]
     },
     "metadata": {
      "needs_background": "light"
     },
     "output_type": "display_data"
    },
    {
     "data": {
      "text/plain": [
       "<Figure size 432x288 with 0 Axes>"
      ]
     },
     "metadata": {},
     "output_type": "display_data"
    }
   ],
   "source": [
    "vs.corrplot(train_int, figsize = (20,20))"
   ]
  },
  {
   "cell_type": "markdown",
   "metadata": {},
   "source": [
    "# Tests"
   ]
  },
  {
   "cell_type": "code",
   "execution_count": 14,
   "metadata": {},
   "outputs": [
    {
     "data": {
      "text/plain": [
       "<matplotlib.axes._subplots.AxesSubplot at 0x7fccb2b64b00>"
      ]
     },
     "execution_count": 14,
     "metadata": {},
     "output_type": "execute_result"
    },
    {
     "data": {
      "image/png": "[encoded data removed]",
      "text/plain": [
       "<Figure size 432x288 with 1 Axes>"
      ]
     },
     "metadata": {
      "needs_background": "light"
     },
     "output_type": "display_data"
    }
   ],
   "source": [
    "train_csv['ps_ind_03'].value_counts().sort_index().plot(kind='bar')"
   ]
  },
  {
   "cell_type": "code",
   "execution_count": null,
   "metadata": {},
   "outputs": [],
   "source": []
  }
 ],
 "metadata": {
  "kernelspec": {
   "display_name": "Python 3",
   "language": "python",
   "name": "python3"
  },
  "language_info": {
   "codemirror_mode": {
    "name": "ipython",
    "version": 3
   },
   "file_extension": ".py",
   "mimetype": "text/x-python",
   "name": "python",
   "nbconvert_exporter": "python",
   "pygments_lexer": "ipython3",
   "version": "3.6.8"
  },
  "toc": {
   "base_numbering": 1,
   "nav_menu": {},
   "number_sections": true,
   "sideBar": false,
   "skip_h1_title": false,
   "title_cell": "Table of Contents",
   "title_sidebar": "Contents",
   "toc_cell": false,
   "toc_position": {
    "height": "419.717px",
    "left": "34px",
    "top": "74.3833px",
    "width": "238.033px"
   },
   "toc_section_display": false,
   "toc_window_display": true
  },
  "varInspector": {
   "cols": {
    "lenName": 16,
    "lenType": 16,
    "lenVar": 40
   },
   "kernels_config": {
    "python": {
     "delete_cmd_postfix": "",
     "delete_cmd_prefix": "del ",
     "library": "var_list.py",
     "varRefreshCmd": "print(var_dic_list())"
    },
    "r": {
     "delete_cmd_postfix": ") ",
     "delete_cmd_prefix": "rm(",
     "library": "var_list.r",
     "varRefreshCmd": "cat(var_dic_list()) "
    }
   },
   "types_to_exclude": [
    "module",
    "function",
    "builtin_function_or_method",
    "instance",
    "_Feature"
   ],
   "window_display": false
  }
 },
 "nbformat": 4,
 "nbformat_minor": 2
}
