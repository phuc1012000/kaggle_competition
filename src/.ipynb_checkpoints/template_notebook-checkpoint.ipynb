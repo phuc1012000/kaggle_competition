{
 "cells": [
  {
   "cell_type": "markdown",
   "metadata": {},
   "source": [
    "# Description"
   ]
  },
  {
   "cell_type": "code",
   "execution_count": null,
   "metadata": {},
   "outputs": [],
   "source": []
  },
  {
   "cell_type": "markdown",
   "metadata": {},
   "source": [
    "# Environment"
   ]
  },
  {
   "cell_type": "markdown",
   "metadata": {},
   "source": [
    "## Library Imports"
   ]
  },
  {
   "cell_type": "code",
   "execution_count": 1,
   "metadata": {
    "ExecuteTime": {
     "end_time": "2019-12-15T02:58:49.170394Z",
     "start_time": "2019-12-15T02:58:48.965784Z"
    }
   },
   "outputs": [],
   "source": [
    "import os\n",
    "\n",
    "import numpy as np\n",
    "import pandas as pd\n",
    "\n",
    "import matplotlib.pyplot as plt\n",
    "import seaborn as sns\n",
    "%matplotlib inline\n",
    "plt.style.use('ggplot')"
   ]
  },
  {
   "cell_type": "markdown",
   "metadata": {},
   "source": [
    "## Local Imports"
   ]
  },
  {
   "cell_type": "code",
   "execution_count": null,
   "metadata": {},
   "outputs": [],
   "source": [
    "from phuc import data_process, file\n",
    "from phuc import visualization as vs"
   ]
  },
  {
   "cell_type": "markdown",
   "metadata": {},
   "source": [
    "## Reload data path"
   ]
  },
  {
   "cell_type": "code",
   "execution_count": null,
   "metadata": {},
   "outputs": [],
   "source": [
    "from phuc.file import standard_template\n",
    "\n",
    "standard_template.save_data_path()"
   ]
  },
  {
   "cell_type": "markdown",
   "metadata": {},
   "source": [
    "##  Setup Pandas"
   ]
  },
  {
   "cell_type": "code",
   "execution_count": null,
   "metadata": {},
   "outputs": [],
   "source": [
    "pd.set_option('display.max_rows', 100)\n",
    "pd.set_option('display.max_columns', 100)"
   ]
  },
  {
   "cell_type": "markdown",
   "metadata": {},
   "source": [
    "## Set up data path"
   ]
  },
  {
   "cell_type": "code",
   "execution_count": null,
   "metadata": {},
   "outputs": [],
   "source": [
    "CURR_DIR = os.getcwd().split('/src')[0]"
   ]
  },
  {
   "cell_type": "code",
   "execution_count": null,
   "metadata": {},
   "outputs": [],
   "source": [
    "data_path = file.load_pickle(CURR_DIR + '/data_path.pkl')"
   ]
  },
  {
   "cell_type": "code",
   "execution_count": null,
   "metadata": {},
   "outputs": [],
   "source": [
    "for key in data_path: print(key)"
   ]
  },
  {
   "cell_type": "markdown",
   "metadata": {},
   "source": [
    "# Code"
   ]
  },
  {
   "cell_type": "markdown",
   "metadata": {},
   "source": [
    "# Colab Settings"
   ]
  },
  {
   "cell_type": "markdown",
   "metadata": {},
   "source": [
    "## Connect Drive"
   ]
  },
  {
   "cell_type": "code",
   "execution_count": null,
   "metadata": {},
   "outputs": [],
   "source": [
    "from google.colab import drive \n",
    "# conncent phuc.phan1012000@hcmut.edu.vn\n",
    "\n",
    " # default location for the drive\n",
    "ROOT = \"/content/drive\"            \n",
    "drive.mount(ROOT)   "
   ]
  },
  {
   "cell_type": "markdown",
   "metadata": {},
   "source": [
    "## Load Library"
   ]
  },
  {
   "cell_type": "code",
   "execution_count": null,
   "metadata": {},
   "outputs": [],
   "source": [
    "import sys\n",
    "import os\n",
    "import pandas as pd\n",
    "sys.path.append(\"/content/drive/My Drive/Work/Data_Science_Library\")"
   ]
  },
  {
   "cell_type": "markdown",
   "metadata": {},
   "source": [
    "## GIT"
   ]
  },
  {
   "cell_type": "code",
   "execution_count": null,
   "metadata": {},
   "outputs": [],
   "source": [
    "GIT_REPOSITORY = \"kaggle_competition\"\n",
    "# path to project on Google Drive\n",
    "MY_GOOGLE_DRIVE_PATH = 'My Drive/Work/Projects'\n",
    "PROJECT_PATH = os.path.join(ROOT, MY_GOOGLE_DRIVE_PATH)\n",
    "\n",
    "# GO TO WORKING PROJECT PATH\n",
    "os.chdir(os.path.join(PROJECT_PATH,GIT_REPOSITORY))"
   ]
  },
  {
   "cell_type": "markdown",
   "metadata": {},
   "source": [
    "### Projects"
   ]
  },
  {
   "cell_type": "code",
   "execution_count": null,
   "metadata": {},
   "outputs": [],
   "source": [
    "# Clone github repository setup\n",
    "\n",
    "# get token (ONLY phuc.phan1012000@hcmut.edu.vn have key access)\n",
    "GIT_TOKEN = pd.read_pickle('/content/drive/My Drive/key.pkl')\n",
    "\n",
    "# It's good to print out the value if you are not sure\n",
    "print(\"PROJECT_PATH: \", PROJECT_PATH)\n",
    "\n",
    "# Create Folder if not existed\n",
    "!mkdir \"{PROJECT_PATH}\"\n",
    "\n",
    "GIT_PATH = \"https://\" + GIT_TOKEN + \"@github.com/\" + \\\n",
    "    GIT_USERNAME + \"/\" + GIT_REPOSITORY + \".git\"\n",
    "\n",
    "# clone from git to PROJECT_PATH\n",
    "# Change directory to the location defined in project_path\n",
    "os.chdir(PROJECT_PATH)\n",
    "# clone the github repository\n",
    "!git clone -b Developing \"{GIT_PATH}\" \n"
   ]
  },
  {
   "cell_type": "markdown",
   "metadata": {},
   "source": [
    "### Reload Library"
   ]
  },
  {
   "cell_type": "code",
   "execution_count": null,
   "metadata": {},
   "outputs": [],
   "source": [
    "# get DataScience-Library repository from github\n",
    "GIT_REPOSITORY = \"DataScience-Library\"\n",
    "GIT_PATH = \"https://\" + GIT_TOKEN + \"@github.com/\" + \\\n",
    "    GIT_USERNAME + \"/\" + GIT_REPOSITORY + \".git\"\n",
    "# rm exited file\n",
    "!rm - rf '/content/drive/My Drive/Work/Data_Science_Library/phuc'\n",
    "# clone from git\n",
    "os.chdir('/content/drive/My Drive/Work/Data_Science_Library')\n",
    "!git clone - b Developing \"{GIT_PATH}\"  # clone the github repository\n",
    "# change name to phuc\n",
    "!mv '/content/drive/My Drive/Work/Data_Science_Library/DataScience-Library' \\\n",
    "    '/content/drive/My Drive/Work/Data_Science_Library/phuc'"
   ]
  }
 ],
 "metadata": {
  "kernelspec": {
   "display_name": "Python 3",
   "language": "python",
   "name": "python3"
  },
  "language_info": {
   "codemirror_mode": {
    "name": "ipython",
    "version": 3
   },
   "file_extension": ".py",
   "mimetype": "text/x-python",
   "name": "python",
   "nbconvert_exporter": "python",
   "pygments_lexer": "ipython3",
   "version": "3.6.8"
  },
  "toc": {
   "base_numbering": 1,
   "nav_menu": {},
   "number_sections": true,
   "sideBar": false,
   "skip_h1_title": false,
   "title_cell": "Table of Contents",
   "title_sidebar": "Contents",
   "toc_cell": false,
   "toc_position": {
    "height": "411.533px",
    "left": "37px",
    "top": "74.3833px",
    "width": "243.2px"
   },
   "toc_section_display": false,
   "toc_window_display": true
  },
  "varInspector": {
   "cols": {
    "lenName": 16,
    "lenType": 16,
    "lenVar": 40
   },
   "kernels_config": {
    "python": {
     "delete_cmd_postfix": "",
     "delete_cmd_prefix": "del ",
     "library": "var_list.py",
     "varRefreshCmd": "print(var_dic_list())"
    },
    "r": {
     "delete_cmd_postfix": ") ",
     "delete_cmd_prefix": "rm(",
     "library": "var_list.r",
     "varRefreshCmd": "cat(var_dic_list()) "
    }
   },
   "types_to_exclude": [
    "module",
    "function",
    "builtin_function_or_method",
    "instance",
    "_Feature"
   ],
   "window_display": false
  }
 },
 "nbformat": 4,
 "nbformat_minor": 2
}
