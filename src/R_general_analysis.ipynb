{
 "cells": [
  {
   "cell_type": "markdown",
   "metadata": {},
   "source": [
    "# Description"
   ]
  },
  {
   "cell_type": "code",
   "execution_count": null,
   "metadata": {},
   "outputs": [],
   "source": []
  },
  {
   "cell_type": "markdown",
   "metadata": {},
   "source": [
    "# Environment"
   ]
  },
  {
   "cell_type": "markdown",
   "metadata": {},
   "source": [
    "## Library Imports"
   ]
  },
  {
   "cell_type": "code",
   "execution_count": 8,
   "metadata": {
    "ExecuteTime": {
     "end_time": "2019-12-15T02:58:49.170394Z",
     "start_time": "2019-12-15T02:58:48.965784Z"
    },
    "scrolled": true
   },
   "outputs": [
    {
     "name": "stderr",
     "output_type": "stream",
     "text": [
      "Parsed with column specification:\n",
      "cols(\n",
      "  .default = col_double()\n",
      ")\n",
      "\n",
      "See spec(...) for full column specifications.\n",
      "\n"
     ]
    }
   ],
   "source": [
    "### Setup\n",
    "library(readr)\n",
    "library(data.table)\n",
    "library(reshape)\n",
    "library(ggplot2)\n",
    "library(gridExtra)\n",
    "system(\"ls '/home/phuc/Desktop/Work/Data Sience/kaggle_competition/SafeDirverPrediction/data/raw'\")\n",
    "options(repr.plot.width = 6, repr.plot.height = 3)\n",
    "df <- read_csv(\"/home/phuc/Desktop/Work/Data Sience/kaggle_competition/SafeDirverPrediction/data/raw/train.csv\")\n",
    "class(df) <- \"data.frame\"\n",
    "### Plotting functions\n",
    "plot_one_way <- function(df,lines, bars = NULL, factor){\n",
    "  ## If bars not given, do count\n",
    "  if (is.null(bars)){\n",
    "    bars <- \"Count\"\n",
    "    df$Count <- 1\n",
    "  }\n",
    "  \n",
    "  ## Check df contains lines, bars, factor\n",
    "  if (prod(c(lines,bars,factor)%in%names(df))==0){\n",
    "    stop(\"lines, bars and factor not all present in df\")\n",
    "  }\n",
    "  \n",
    "  if (!is.factor(df[,factor])){\n",
    "    df[,factor] <- as.factor(df[,factor])\n",
    "  }\n",
    "  \n",
    "  ## Weight lines by bars for weighted average\n",
    "  df[,lines] <- df[,lines] * df[,bars]\n",
    "  \n",
    "  ## Crunch lines (1 row per factor level and line)\n",
    "  df.melt <- melt(df [,c(factor,lines)],id=factor)\n",
    "  df.crunch <- as.data.frame(data.table(df.melt)[,.(value=sum(value))\n",
    "                                                 ,by = c(factor,\"variable\")])\n",
    "  \n",
    "  ## Crunch weight (1 row per factor level)\n",
    "  df$wt <- df[,bars]\n",
    "  df.crunch.wt <- as.data.frame(data.table(df)[,.(wt=sum(wt))\n",
    "                                               ,by = c(factor)])\n",
    "  \n",
    "  ## Join weight to line data\n",
    "  df.crunch$wt <- df.crunch.wt[match(df.crunch[,factor],df.crunch.wt[,factor]),\"wt\"]\n",
    "  \n",
    "  ## Average response\n",
    "  line.avg <- sum(df.crunch$value)/sum(df.crunch$wt)\n",
    "  \n",
    "  ## Convert value to average\n",
    "  df.crunch$value <- df.crunch$value/df.crunch$wt\n",
    "  \n",
    "  ## Rescale weight so that max == line.avg\n",
    "  df.crunch.wt$wt_rescaled <- df.crunch.wt$wt * line.avg / max(df.crunch.wt$wt)\n",
    "  \n",
    "     ## Plot a chart\n",
    "  plot.one_way<-ggplot(df.crunch.wt, aes_string(x=factor,y=\"wt_rescaled\",group=1))+\n",
    "    geom_bar(stat=\"identity\",fill=\"yellow\",colour=\"white\",alpha=0.3)+\n",
    "    geom_line(data=df.crunch,aes_string(x=factor,y=\"value\",colour=\"variable\",group=\"variable\"))+\n",
    "    geom_point(data=df.crunch,aes_string(x=factor,y=\"value\",colour=\"variable\",group=\"variable\"))+\n",
    "    theme(axis.text.x = element_text(angle = 60, hjust = 1))+\n",
    "    labs(y = \"value\" )+ggtitle(factor)\n",
    "  \n",
    "  return(plot.one_way)\n",
    "}\n",
    "\n",
    "plot_two_way <- function(df,line, bars = NULL, factor1, factor2, rescale = F){\n",
    "  ## If bars not given, do count\n",
    "  if (is.null(bars)){\n",
    "    bars <- \"Count\"\n",
    "    df$Count <- 1\n",
    "  }\n",
    "  \n",
    "  ## Check df contains lines, bars, factor\n",
    "  if (prod(c(line,bars,factor1,factor2)%in%names(df))==0){\n",
    "    stop(\"lines, bars and factor not all present in df\")\n",
    "  }\n",
    "  \n",
    "  if (!is.factor(df[,factor1])){\n",
    "    df[,factor1] <- as.factor(df[,factor1])\n",
    "  }\n",
    "  \n",
    "  if (!is.factor(df[,factor2])){\n",
    "    df[,factor2] <- as.factor(df[,factor2])\n",
    "  }\n",
    "  \n",
    "  ## Weight lines by bars for weighted average\n",
    "  df[,line] <- df[,line] * df[,bars]\n",
    "  \n",
    "  ## Crunch data\n",
    "  df$wt <- df[,bars]\n",
    "  df$value <- df[,line]\n",
    "  df.crunch <- as.data.frame(data.table(df)[,.(value=sum(value),\n",
    "                                               wt=sum(wt))\n",
    "                                            ,by = c(factor1,factor2)])\n",
    "  \n",
    "  ## Crunch weight 1-way\n",
    "  df.crunch.1way <- as.data.frame(data.table(df)[,.(wt=sum(wt))\n",
    "                                                 ,by = c(factor1)])\n",
    "  \n",
    "  ## Convert value to average\n",
    "  df.crunch$value <- df.crunch$value/df.crunch$wt\n",
    "  \n",
    "  ## Rescale\n",
    "  if (rescale){\n",
    "    df.crunch$lp <- ifelse(df.crunch$value%in%c(0,1),0,log(df.crunch$value/(1-df.crunch$value)))\n",
    "    lm.noint <- lm(as.formula(paste(\"lp~\",factor1,\"+\",factor2)),data = df.crunch,weights = df.crunch$wt)\n",
    "    df.crunch$lp_noint <- predict(lm.noint,newdata = df.crunch)\n",
    "    df.crunch$lp_int <- df.crunch$lp - df.crunch$lp_noint\n",
    "    df.crunch$value <- exp(df.crunch$lp_int)/(1+exp(df.crunch$lp_int))\n",
    "  }\n",
    "  \n",
    "  ## Average response\n",
    "  line.avg <- sum(df.crunch$value*df.crunch$wt)/sum(df.crunch$wt)\n",
    "  \n",
    "  ## Rescale weight so that max == line.avg\n",
    "  df.crunch$wt_rescaled <- df.crunch$wt * line.avg / max(df.crunch.1way$wt)\n",
    "  \n",
    "  df.crunch <- df.crunch[order(df.crunch[,factor1],df.crunch[,factor2]),]\n",
    "    \n",
    "    chart.title <- paste(factor1,\"by\",factor2)\n",
    "    if (rescale){\n",
    "        chart.title <- paste(chart.title,\"(rescaled)\")\n",
    "    }\n",
    "    \n",
    "  ## Plot a chart\n",
    "  plot.two_way<-ggplot(df.crunch)+\n",
    "    geom_bar(stat=\"identity\", aes_string(x=factor1,y=\"wt_rescaled\",fill=factor2,group=factor2),col=\"white\",alpha=0.3)+\n",
    "    geom_line(aes_string(x=factor1,y=\"value\",colour=factor2,group=factor2))+\n",
    "    geom_point(aes_string(x=factor1,y=\"value\",colour=factor2,group=factor2))+\n",
    "    theme(axis.text.x = element_text(angle = 60, hjust = 1))+\n",
    "    labs(y = \"value\" ) + ggtitle(chart.title)\n",
    "  \n",
    "  return(plot.two_way)\n",
    "}"
   ]
  },
  {
   "cell_type": "code",
   "execution_count": 7,
   "metadata": {},
   "outputs": [
    {
     "data": {
      "image/png": "[encoded data removed]",
      "text/plain": [
       "plot without title"
      ]
     },
     "metadata": {
      "image/png": {
       "height": 180,
       "width": 360
      },
      "text/plain": {
       "height": 180,
       "width": 360
      }
     },
     "output_type": "display_data"
    }
   ],
   "source": [
    "plot_one_way(df=df,lines=\"target\",factor=\"ps_ind_03\")"
   ]
  }
 ],
 "metadata": {
  "kernelspec": {
   "display_name": "R",
   "language": "R",
   "name": "ir"
  },
  "language_info": {
   "codemirror_mode": "r",
   "file_extension": ".r",
   "mimetype": "text/x-r-source",
   "name": "R",
   "pygments_lexer": "r",
   "version": "3.4.4"
  },
  "toc": {
   "base_numbering": 1,
   "nav_menu": {},
   "number_sections": true,
   "sideBar": false,
   "skip_h1_title": false,
   "title_cell": "Table of Contents",
   "title_sidebar": "Contents",
   "toc_cell": false,
   "toc_position": {
    "height": "411.533px",
    "left": "36px",
    "top": "74.7667px",
    "width": "243.2px"
   },
   "toc_section_display": false,
   "toc_window_display": true
  },
  "varInspector": {
   "cols": {
    "lenName": 16,
    "lenType": 16,
    "lenVar": 40
   },
   "kernels_config": {
    "python": {
     "delete_cmd_postfix": "",
     "delete_cmd_prefix": "del ",
     "library": "var_list.py",
     "varRefreshCmd": "print(var_dic_list())"
    },
    "r": {
     "delete_cmd_postfix": ") ",
     "delete_cmd_prefix": "rm(",
     "library": "var_list.r",
     "varRefreshCmd": "cat(var_dic_list()) "
    }
   },
   "types_to_exclude": [
    "module",
    "function",
    "builtin_function_or_method",
    "instance",
    "_Feature"
   ],
   "window_display": false
  }
 },
 "nbformat": 4,
 "nbformat_minor": 2
}
